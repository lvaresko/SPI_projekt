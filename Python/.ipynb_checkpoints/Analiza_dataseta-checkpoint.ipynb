{
 "cells": [
  {
   "cell_type": "code",
   "execution_count": 1,
   "metadata": {},
   "outputs": [
    {
     "name": "stderr",
     "output_type": "stream",
     "text": [
      "C:\\Users\\Luce\\anaconda3\\lib\\site-packages\\IPython\\core\\interactiveshell.py:3146: DtypeWarning: Columns (1,11,12,14) have mixed types.Specify dtype option on import or set low_memory=False.\n",
      "  has_raised = await self.run_ast_nodes(code_ast.body, cell_name,\n"
     ]
    },
    {
     "name": "stdout",
     "output_type": "stream",
     "text": [
      "                                                 url            id  \\\n",
      "0  https://bj.lianjia.com/chengjiao/101084782030....  101084782030   \n",
      "1  https://bj.lianjia.com/chengjiao/101086012217....  101086012217   \n",
      "2  https://bj.lianjia.com/chengjiao/101086041636....  101086041636   \n",
      "3  https://bj.lianjia.com/chengjiao/101086406841....  101086406841   \n",
      "4  https://bj.lianjia.com/chengjiao/101086920653....  101086920653   \n",
      "\n",
      "          Lng        Lat            Cid   tradeTime     DOM  followers  \\\n",
      "0  116.475489  40.019520  1111027376244  2016-08-09  1464.0        106   \n",
      "1  116.453917  39.881534  1111027381879  2016-07-28   903.0        126   \n",
      "2  116.561978  39.877145  1111040862969  2016-12-11  1271.0         48   \n",
      "3  116.438010  40.076114  1111043185817  2016-09-30   965.0        138   \n",
      "4  116.428392  39.886229  1111027381174  2016-08-28   927.0        286   \n",
      "\n",
      "   totalPrice  price  ...  buildingType constructionTime renovationCondition  \\\n",
      "0       415.0  31680  ...           1.0             2005                   3   \n",
      "1       575.0  43436  ...           1.0             2004                   4   \n",
      "2      1030.0  52021  ...           4.0             2005                   3   \n",
      "3       297.5  22202  ...           1.0             2008                   1   \n",
      "4       392.0  48396  ...           4.0             1960                   2   \n",
      "\n",
      "   buildingStructure ladderRatio elevator  fiveYearsProperty subway  district  \\\n",
      "0                  6       0.217      1.0                0.0    1.0         7   \n",
      "1                  6       0.667      1.0                1.0    0.0         7   \n",
      "2                  6       0.500      1.0                0.0    0.0         7   \n",
      "3                  6       0.273      1.0                0.0    0.0         6   \n",
      "4                  2       0.333      0.0                1.0    1.0         1   \n",
      "\n",
      "   communityAverage  \n",
      "0           56021.0  \n",
      "1           71539.0  \n",
      "2           48160.0  \n",
      "3           51238.0  \n",
      "4           62588.0  \n",
      "\n",
      "[5 rows x 26 columns]\n"
     ]
    },
    {
     "data": {
      "text/plain": [
       "['url',\n",
       " 'id',\n",
       " 'Lng',\n",
       " 'Lat',\n",
       " 'Cid',\n",
       " 'tradeTime',\n",
       " 'DOM',\n",
       " 'followers',\n",
       " 'totalPrice',\n",
       " 'price',\n",
       " 'square',\n",
       " 'livingRoom',\n",
       " 'drawingRoom',\n",
       " 'kitchen',\n",
       " 'bathRoom',\n",
       " 'floor',\n",
       " 'buildingType',\n",
       " 'constructionTime',\n",
       " 'renovationCondition',\n",
       " 'buildingStructure',\n",
       " 'ladderRatio',\n",
       " 'elevator',\n",
       " 'fiveYearsProperty',\n",
       " 'subway',\n",
       " 'district',\n",
       " 'communityAverage']"
      ]
     },
     "execution_count": 1,
     "metadata": {},
     "output_type": "execute_result"
    }
   ],
   "source": [
    "#učitavanje skupa podataka iz csv-a u Pandas Dataframe i ispis prvih 5 redova\n",
    "import pandas as pd\n",
    "\n",
    "url = r\"C:\\Users\\Luce\\Downloads\\archive\\new.csv\"\n",
    "\n",
    "data = pd.read_csv(url, delimiter=',', encoding='ISO-8859–1')\n",
    "\n",
    "print(data.head())\n",
    "list(data.columns)"
   ]
  },
  {
   "cell_type": "code",
   "execution_count": 4,
   "metadata": {},
   "outputs": [
    {
     "name": "stdout",
     "output_type": "stream",
     "text": [
      "(318851, 26)\n"
     ]
    }
   ],
   "source": [
    "#Veličina skupa podataka\n",
    "print(data.shape)"
   ]
  },
  {
   "cell_type": "code",
   "execution_count": 5,
   "metadata": {},
   "outputs": [
    {
     "name": "stdout",
     "output_type": "stream",
     "text": [
      "url                         0\n",
      "id                          0\n",
      "Lng                         0\n",
      "Lat                         0\n",
      "Cid                         0\n",
      "tradeTime                   0\n",
      "DOM                    157977\n",
      "followers                   0\n",
      "totalPrice                  0\n",
      "price                       0\n",
      "square                      0\n",
      "livingRoom                  0\n",
      "drawingRoom                 0\n",
      "kitchen                     0\n",
      "bathRoom                    0\n",
      "floor                       0\n",
      "buildingType             2021\n",
      "constructionTime            0\n",
      "renovationCondition         0\n",
      "buildingStructure           0\n",
      "ladderRatio                 0\n",
      "elevator                   32\n",
      "fiveYearsProperty          32\n",
      "subway                     32\n",
      "district                    0\n",
      "communityAverage          463\n",
      "dtype: int64\n"
     ]
    }
   ],
   "source": [
    "#Nedostajuće vrijednosti\n",
    "print(data.isna().sum())"
   ]
  },
  {
   "cell_type": "code",
   "execution_count": 11,
   "metadata": {},
   "outputs": [
    {
     "name": "stdout",
     "output_type": "stream",
     "text": [
      "6    188067\n",
      "2    115779\n",
      "4     14341\n",
      "3       253\n",
      "1       196\n",
      "5       187\n",
      "0        28\n",
      "Name: buildingStructure, dtype: int64\n"
     ]
    }
   ],
   "source": [
    "#buildingStructure: including unknow( 1 ), mixed( 2 ), brick and wood( 3 ), brick and concrete( 4 ),steel( 5 ) and steel-concrete composite ( 6 )\n",
    "print(data['buildingStructure'].value_counts())"
   ]
  },
  {
   "cell_type": "code",
   "execution_count": 9,
   "metadata": {},
   "outputs": [
    {
     "name": "stdout",
     "output_type": "stream",
     "text": [
      "4.000    172405\n",
      "1.000     84541\n",
      "3.000     59715\n",
      "2.000       137\n",
      "0.500        15\n",
      "0.333         5\n",
      "0.048         4\n",
      "0.125         3\n",
      "0.250         2\n",
      "0.429         1\n",
      "0.375         1\n",
      "0.667         1\n",
      "Name: buildingType, dtype: int64\n"
     ]
    }
   ],
   "source": [
    "print(data['buildingType'].value_counts())"
   ]
  },
  {
   "cell_type": "code",
   "execution_count": 8,
   "metadata": {},
   "outputs": [
    {
     "name": "stdout",
     "output_type": "stream",
     "text": [
      "2         83333\n",
      "2         77256\n",
      "1         42138\n",
      "1         40248\n",
      "3         36044\n",
      "3         31567\n",
      "4          3472\n",
      "4          3349\n",
      "5           570\n",
      "5           537\n",
      "6           126\n",
      "6           102\n",
      "#NAME?       32\n",
      "7            22\n",
      "0            17\n",
      "7            15\n",
      "0            11\n",
      "8             4\n",
      "9             3\n",
      "8             3\n",
      "9             2\n",
      "Name: livingRoom, dtype: int64\n"
     ]
    }
   ],
   "source": [
    "print(data['livingRoom'].value_counts())"
   ]
  },
  {
   "cell_type": "code",
   "execution_count": 12,
   "metadata": {},
   "outputs": [
    {
     "name": "stdout",
     "output_type": "stream",
     "text": [
      "url                    318851\n",
      "id                     318851\n",
      "Lng                      3995\n",
      "Lat                      3993\n",
      "Cid                      4035\n",
      "tradeTime                2560\n",
      "DOM                       551\n",
      "followers                 547\n",
      "totalPrice               5780\n",
      "price                   80042\n",
      "square                  18298\n",
      "livingRoom                 21\n",
      "drawingRoom                28\n",
      "kitchen                     5\n",
      "bathRoom                   26\n",
      "floor                     203\n",
      "buildingType               12\n",
      "constructionTime           74\n",
      "renovationCondition         5\n",
      "buildingStructure           7\n",
      "ladderRatio               183\n",
      "elevator                    2\n",
      "fiveYearsProperty           2\n",
      "subway                      2\n",
      "district                   13\n",
      "communityAverage         4072\n",
      "dtype: int64\n"
     ]
    }
   ],
   "source": [
    "#Jedinstvene vrijednosti\n",
    "print(data.nunique())"
   ]
  },
  {
   "cell_type": "code",
   "execution_count": 13,
   "metadata": {},
   "outputs": [
    {
     "name": "stdout",
     "output_type": "stream",
     "text": [
      "url                     object\n",
      "id                      object\n",
      "Lng                    float64\n",
      "Lat                    float64\n",
      "Cid                      int64\n",
      "tradeTime               object\n",
      "DOM                    float64\n",
      "followers                int64\n",
      "totalPrice             float64\n",
      "price                    int64\n",
      "square                 float64\n",
      "livingRoom              object\n",
      "drawingRoom             object\n",
      "kitchen                  int64\n",
      "bathRoom                object\n",
      "floor                   object\n",
      "buildingType           float64\n",
      "constructionTime        object\n",
      "renovationCondition      int64\n",
      "buildingStructure        int64\n",
      "ladderRatio            float64\n",
      "elevator               float64\n",
      "fiveYearsProperty      float64\n",
      "subway                 float64\n",
      "district                 int64\n",
      "communityAverage       float64\n",
      "dtype: object\n"
     ]
    }
   ],
   "source": [
    "#Tipovi podataka\n",
    "print(data.dtypes)"
   ]
  },
  {
   "cell_type": "code",
   "execution_count": 7,
   "metadata": {},
   "outputs": [
    {
     "name": "stdout",
     "output_type": "stream",
     "text": [
      "https://bj.lianjia.com/chengjiao/101101234517.html    1\n",
      "https://bj.lianjia.com/chengjiao/BJCY15750547.html    1\n",
      "https://bj.lianjia.com/chengjiao/BJSJ91123398.html    1\n",
      "https://bj.lianjia.com/chengjiao/BJDX89505848.html    1\n",
      "https://bj.lianjia.com/chengjiao/BJHD85056775.html    1\n",
      "                                                     ..\n",
      "https://bj.lianjia.com/chengjiao/101100357036.html    1\n",
      "https://bj.lianjia.com/chengjiao/101100706041.html    1\n",
      "https://bj.lianjia.com/chengjiao/BJCY91197585.html    1\n",
      "https://bj.lianjia.com/chengjiao/101102104903.html    1\n",
      "https://bj.lianjia.com/chengjiao/BJCP91114174.html    1\n",
      "Name: url, Length: 318851, dtype: int64\n"
     ]
    },
    {
     "ename": "KeyboardInterrupt",
     "evalue": "Interrupted by user",
     "output_type": "error",
     "traceback": [
      "\u001b[1;31m---------------------------------------------------------------------------\u001b[0m",
      "\u001b[1;31mKeyboardInterrupt\u001b[0m                         Traceback (most recent call last)",
      "\u001b[1;32m<ipython-input-7-50cb01533188>\u001b[0m in \u001b[0;36m<module>\u001b[1;34m\u001b[0m\n\u001b[0;32m      2\u001b[0m \u001b[1;32mfor\u001b[0m \u001b[0mcolumn\u001b[0m \u001b[1;32min\u001b[0m \u001b[0mdata\u001b[0m\u001b[1;33m:\u001b[0m\u001b[1;33m\u001b[0m\u001b[1;33m\u001b[0m\u001b[0m\n\u001b[0;32m      3\u001b[0m     \u001b[0mprint\u001b[0m\u001b[1;33m(\u001b[0m\u001b[0mdata\u001b[0m\u001b[1;33m[\u001b[0m\u001b[0mcolumn\u001b[0m\u001b[1;33m]\u001b[0m\u001b[1;33m.\u001b[0m\u001b[0mvalue_counts\u001b[0m\u001b[1;33m(\u001b[0m\u001b[1;33m)\u001b[0m\u001b[1;33m)\u001b[0m\u001b[1;33m\u001b[0m\u001b[1;33m\u001b[0m\u001b[0m\n\u001b[1;32m----> 4\u001b[1;33m     \u001b[0minput\u001b[0m\u001b[1;33m(\u001b[0m\u001b[1;34m\"...\"\u001b[0m\u001b[1;33m)\u001b[0m\u001b[1;33m\u001b[0m\u001b[1;33m\u001b[0m\u001b[0m\n\u001b[0m",
      "\u001b[1;32m~\\anaconda3\\lib\\site-packages\\ipykernel\\kernelbase.py\u001b[0m in \u001b[0;36mraw_input\u001b[1;34m(self, prompt)\u001b[0m\n\u001b[0;32m    858\u001b[0m                 \u001b[1;34m\"raw_input was called, but this frontend does not support input requests.\"\u001b[0m\u001b[1;33m\u001b[0m\u001b[1;33m\u001b[0m\u001b[0m\n\u001b[0;32m    859\u001b[0m             )\n\u001b[1;32m--> 860\u001b[1;33m         return self._input_request(str(prompt),\n\u001b[0m\u001b[0;32m    861\u001b[0m             \u001b[0mself\u001b[0m\u001b[1;33m.\u001b[0m\u001b[0m_parent_ident\u001b[0m\u001b[1;33m,\u001b[0m\u001b[1;33m\u001b[0m\u001b[1;33m\u001b[0m\u001b[0m\n\u001b[0;32m    862\u001b[0m             \u001b[0mself\u001b[0m\u001b[1;33m.\u001b[0m\u001b[0m_parent_header\u001b[0m\u001b[1;33m,\u001b[0m\u001b[1;33m\u001b[0m\u001b[1;33m\u001b[0m\u001b[0m\n",
      "\u001b[1;32m~\\anaconda3\\lib\\site-packages\\ipykernel\\kernelbase.py\u001b[0m in \u001b[0;36m_input_request\u001b[1;34m(self, prompt, ident, parent, password)\u001b[0m\n\u001b[0;32m    902\u001b[0m             \u001b[1;32mexcept\u001b[0m \u001b[0mKeyboardInterrupt\u001b[0m\u001b[1;33m:\u001b[0m\u001b[1;33m\u001b[0m\u001b[1;33m\u001b[0m\u001b[0m\n\u001b[0;32m    903\u001b[0m                 \u001b[1;31m# re-raise KeyboardInterrupt, to truncate traceback\u001b[0m\u001b[1;33m\u001b[0m\u001b[1;33m\u001b[0m\u001b[1;33m\u001b[0m\u001b[0m\n\u001b[1;32m--> 904\u001b[1;33m                 \u001b[1;32mraise\u001b[0m \u001b[0mKeyboardInterrupt\u001b[0m\u001b[1;33m(\u001b[0m\u001b[1;34m\"Interrupted by user\"\u001b[0m\u001b[1;33m)\u001b[0m \u001b[1;32mfrom\u001b[0m \u001b[1;32mNone\u001b[0m\u001b[1;33m\u001b[0m\u001b[1;33m\u001b[0m\u001b[0m\n\u001b[0m\u001b[0;32m    905\u001b[0m             \u001b[1;32mexcept\u001b[0m \u001b[0mException\u001b[0m \u001b[1;32mas\u001b[0m \u001b[0me\u001b[0m\u001b[1;33m:\u001b[0m\u001b[1;33m\u001b[0m\u001b[1;33m\u001b[0m\u001b[0m\n\u001b[0;32m    906\u001b[0m                 \u001b[0mself\u001b[0m\u001b[1;33m.\u001b[0m\u001b[0mlog\u001b[0m\u001b[1;33m.\u001b[0m\u001b[0mwarning\u001b[0m\u001b[1;33m(\u001b[0m\u001b[1;34m\"Invalid Message:\"\u001b[0m\u001b[1;33m,\u001b[0m \u001b[0mexc_info\u001b[0m\u001b[1;33m=\u001b[0m\u001b[1;32mTrue\u001b[0m\u001b[1;33m)\u001b[0m\u001b[1;33m\u001b[0m\u001b[1;33m\u001b[0m\u001b[0m\n",
      "\u001b[1;31mKeyboardInterrupt\u001b[0m: Interrupted by user"
     ]
    }
   ],
   "source": [
    "#Frekvencija vrijednosti\n",
    "for column in data:\n",
    "    print(data[column].value_counts())\n",
    "    input(\"...\")"
   ]
  },
  {
   "cell_type": "code",
   "execution_count": null,
   "metadata": {},
   "outputs": [],
   "source": []
  },
  {
   "cell_type": "code",
   "execution_count": null,
   "metadata": {},
   "outputs": [],
   "source": []
  }
 ],
 "metadata": {
  "kernelspec": {
   "display_name": "Python 3",
   "language": "python",
   "name": "python3"
  },
  "language_info": {
   "codemirror_mode": {
    "name": "ipython",
    "version": 3
   },
   "file_extension": ".py",
   "mimetype": "text/x-python",
   "name": "python",
   "nbconvert_exporter": "python",
   "pygments_lexer": "ipython3",
   "version": "3.8.5"
  }
 },
 "nbformat": 4,
 "nbformat_minor": 4
}
